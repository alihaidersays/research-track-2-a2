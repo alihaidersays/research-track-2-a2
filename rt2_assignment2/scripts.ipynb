{
 "cells": [
  {
   "cell_type": "markdown",
   "id": "74fe0dfa",
   "metadata": {},
   "source": [
    "# Report for Research Track Assignment II"
   ]
  },
  {
   "cell_type": "markdown",
   "id": "6d67e5f0",
   "metadata": {},
   "source": [
    "This project builds upon the previous iteration's work, accessible at: https://github.com/alihaidersays/research-track-2-a1. \n",
    "\n",
    "The primary objective of this project is to enhance the user interface of the previous version, which lacked user-friendliness and visual appeal. In the previous iteration, users could only initiate and terminate the simulation without receiving any feedback or insights regarding the robot's actions. To address these limitations, we utilized Jupyter Notebook to create an improved interactive interface for our mobile robot simulation. Additionally, we employed the Matplotlib library to visually represent the robot's data, enabling users to analyze its behavior and performance more effectively throughout the simulation.\n",
    "\n",
    "The repository provided includes packages and a simulation environment for controlling a mobile robot in the Gazebo simulator. The main focus of this project is to improve the user interface, which has been developed in Jupyter Notebook. This assignment serves as an extension of its previous iteration, assignment 1, which can be accessed at: https://github.com/alihaidersays/research-track-2-a1.\n",
    "\n",
    "Before proceeding with the instructions, it is important to have ROS1 installed on your system. Please ensure that you have it installed before proceeding. The repository consists of three branches. The first branch is named \"main\", and the second branch is named \"sphinx\". Both branches contain the same project but with different styles of documentation. The \"main\" branch utilizes Doxygen for documentation, while the \"sphinx\" branch utilizes the Sphinx tool."
   ]
  },
  {
   "cell_type": "markdown",
   "id": "a438e03e",
   "metadata": {},
   "source": [
    "The user interface provides the following options for interacting with the simulation:\n",
    "\n",
    "#### 1. Start and Stop button:\n",
    "\n",
    "By clicking the 'Start' button, the simulation will initiate in the Gazebo environment. Initially, the robot will enter the 'random goal position' state, which was developed in assignment 1 using the 'action server'. In this state, a random target position within the grid is assigned to the robot, which it must reach. Once the robot reaches the target position, the 'state_machine_action' node assigns a new random target to the robot, and this cycle continues indefinitely. The user can interrupt the simulation by clicking the 'Stop' button. Upon clicking the 'Stop' button, the robot's ongoing action is immediately canceled, showcasing one of the advantages of using the action server."
   ]
  },
  {
   "cell_type": "code",
   "execution_count": 1,
   "id": "08c8864f",
   "metadata": {},
   "outputs": [
    {
     "data": {
      "text/plain": [
       "'/usr/bin/python3'"
      ]
     },
     "execution_count": 1,
     "metadata": {},
     "output_type": "execute_result"
    }
   ],
   "source": [
    "import sys\n",
    "sys.executable"
   ]
  },
  {
   "cell_type": "code",
   "execution_count": 2,
   "id": "7e592fa3",
   "metadata": {
    "scrolled": true
   },
   "outputs": [
    {
     "data": {
      "application/vnd.jupyter.widget-view+json": {
       "model_id": "6f14e1947ada4237bc42e6fbc6003f16",
       "version_major": 2,
       "version_minor": 0
      },
      "text/plain": [
       "HBox(children=(VBox(children=(Button(description='START', style=ButtonStyle()), Button(description='STOP', sty…"
      ]
     },
     "metadata": {},
     "output_type": "display_data"
    }
   ],
   "source": [
    "%matplotlib widget\n",
    "\n",
    "import numpy as np\n",
    "import matplotlib.pyplot as plt\n",
    "import jupyros as jr\n",
    "from nav_msgs.msg import Odometry\n",
    "import time\n",
    "from matplotlib import animation, rc\n",
    "from actionlib_msgs.msg import GoalStatusArray\n",
    "from geometry_msgs.msg import Twist\n",
    "import ipywidgets as widgets\n",
    "from std_msgs.msg import String, Int32MultiArray\n",
    "import rospy\n",
    "import math\n",
    "# Simulation 1:\n",
    "sim_flag = \"off\"\n",
    "\n",
    "\n",
    "# Initializing rosnode.\n",
    "rospy.init_node('robot_control_node')\n",
    "pub1 = rospy.Publisher('user_interface_sig', String, queue_size=10)\n",
    "    \n",
    "\n",
    "start_button = widgets.Button(description=\"START\")\n",
    "stop_button = widgets.Button(description=\"STOP\")\n",
    "output = widgets.Text(value=\"Click 'Start' Button to start the simulation.\",disabled=True)\n",
    "\n",
    "def on_start_button_clicked(b):\n",
    "    global sim_flag\n",
    "    output.value = 'Simulation Start'\n",
    "    pub1.publish(\"1\")\n",
    "    sim_flag = \"on\"\n",
    "        \n",
    "def on_stop_button_clicked(b):\n",
    "    global sim_flag\n",
    "    output.value = 'Simulation Stop'\n",
    "    pub1.publish(\"0\")\n",
    "    sim_flag = \"off\"\n",
    "\n",
    "\n",
    "start_button.on_click(on_start_button_clicked)\n",
    "stop_button.on_click(on_stop_button_clicked)\n",
    "\n",
    "widgets.HBox([widgets.VBox([start_button, stop_button]), output])"
   ]
  },
  {
   "cell_type": "markdown",
   "id": "ad4ccc4a",
   "metadata": {},
   "source": [
    "#### 2. Setting linear and angular velocity\n",
    "\n",
    "The user has the ability to adjust the linear and angular velocity of the robot using slider bars displayed below. By default, the sliders are positioned at the lowest level, indicating that the robot is moving at its slowest speed. The sliders can be moved to increase the velocity. These sliders set the values of the linear and angular velocity factors, which are utilized to generate the new velocities of the robot. When the slider bar is at its maximum position, with a value of '1.0', the robot's velocity will be twice that of its default velocity."
   ]
  },
  {
   "cell_type": "code",
   "execution_count": 3,
   "id": "1cd9d8ca",
   "metadata": {
    "ExecuteTime": {
     "end_time": "2021-05-21T19:44:49.705210Z",
     "start_time": "2021-05-21T19:44:48.000693Z"
    },
    "scrolled": false
   },
   "outputs": [
    {
     "data": {
      "application/vnd.jupyter.widget-view+json": {
       "model_id": "f4840ec01762489cbda7d79308d0a973",
       "version_major": 2,
       "version_minor": 0
      },
      "text/plain": [
       "FloatSlider(value=0.0, max=1.0)"
      ]
     },
     "metadata": {},
     "output_type": "display_data"
    },
    {
     "data": {
      "application/vnd.jupyter.widget-view+json": {
       "model_id": "f4bcb044c89144eb8fb59ecee53ab6f3",
       "version_major": 2,
       "version_minor": 0
      },
      "text/plain": [
       "FloatSlider(value=0.0, max=1.0)"
      ]
     },
     "metadata": {},
     "output_type": "display_data"
    }
   ],
   "source": [
    "from IPython.display import display\n",
    "\n",
    "pub = rospy.Publisher('control_speed', Twist, queue_size=10)\n",
    "\n",
    "msg = Twist()\n",
    "\n",
    "a = widgets.FloatSlider(min=0.0, max=1.0)\n",
    "display(a)\n",
    "\n",
    "b = widgets.FloatSlider(min=0.0, max=1.0)\n",
    "display(b)\n",
    "\n",
    "\n",
    "def on_value_change(change):\n",
    "    global msg\n",
    "    msg.linear.x = change['new']\n",
    "    output.value = 'Simulation Start!'\n",
    "    pub.publish(msg)\n",
    "    \n",
    "def on_valueang_change(change):\n",
    "    global msg\n",
    "    msg.angular.z = change['new']\n",
    "    pub.publish(msg)\n",
    "\n",
    "a.observe(on_value_change, names='value')\n",
    "b.observe(on_valueang_change, names='value')"
   ]
  },
  {
   "cell_type": "markdown",
   "id": "0b324c0b",
   "metadata": {},
   "source": [
    "#### 3. Directly controlling robot motion using buttons:\n",
    "\n",
    "The user can directly control the robot's movements using five buttons. These buttons enable forward and backward movement, left and right turns, as well as stopping the robot. At any point during the simulation, the user can interrupt the robot's \"random target position\" state by clicking any of these buttons. This action cancels the previously assigned random target, transitioning the robot into a state where the user has direct control over its movements."
   ]
  },
  {
   "cell_type": "code",
   "execution_count": 4,
   "id": "e34e5c4e",
   "metadata": {
    "scrolled": false
   },
   "outputs": [
    {
     "data": {
      "application/vnd.jupyter.widget-view+json": {
       "model_id": "ac8987147d364955b7d9f78225cbcab2",
       "version_major": 2,
       "version_minor": 0
      },
      "text/plain": [
       "HBox(children=(Button(description='Left', style=ButtonStyle()), VBox(children=(Button(description='Forward', s…"
      ]
     },
     "metadata": {},
     "output_type": "display_data"
    }
   ],
   "source": [
    "pub2 = rospy.Publisher('/cmd_vel', Twist, queue_size=1)\n",
    "    \n",
    "msg2 = Twist()\n",
    "    \n",
    "f_button = widgets.Button(description=\"Forward\")\n",
    "r_button = widgets.Button(description=\"Right\")\n",
    "l_button = widgets.Button(description=\"Left\")\n",
    "b_button = widgets.Button(description=\"Backward\")\n",
    "s_button = widgets.Button(description=\"Stop\")\n",
    "output1 = widgets.Text(value=\"Click Buttons to control the robot.\", disabled=True)\n",
    "\n",
    "def on_f_button_clicked(b):\n",
    "    global sim_flag\n",
    "    global msg2\n",
    "    \n",
    "    if (sim_flag == \"on\"):\n",
    "        output1.value = 'Stop Simulation1!'\n",
    "        pub1.publish(\"0\")\n",
    "        sim_flag = \"off\"\n",
    "    \n",
    "    msg2.linear.x = 0.5\n",
    "    msg2.angular.z = 0.0\n",
    "    pub2.publish(msg2)\n",
    "    output1.value = 'Forward!'\n",
    "    time.sleep(1)\n",
    "    output1.value = 'Click Buttons to control the robot.'\n",
    "        \n",
    "def on_r_button_clicked(b):\n",
    "    global sim_flag\n",
    "    global msg2\n",
    "    \n",
    "    if (sim_flag == \"on\"):\n",
    "        output1.value = 'Stop Simulation1!'\n",
    "        pub1.publish(\"0\")\n",
    "        sim_flag = \"off\"\n",
    "    \n",
    "    msg2.angular.z = 0.5\n",
    "    pub2.publish(msg2)\n",
    "    output1.value = 'Right!'\n",
    "    time.sleep(1)\n",
    "    output1.value = 'Click Buttons to control the robot.'\n",
    "\n",
    "def on_l_button_clicked(b):\n",
    "    global sim_flag\n",
    "    global msg2\n",
    "    \n",
    "    if (sim_flag == \"on\"):\n",
    "        output1.value = 'Stop Simulation1!'\n",
    "        pub1.publish(\"0\")\n",
    "        sim_flag = \"off\"\n",
    "        \n",
    "    msg2.angular.z = -0.5\n",
    "    pub2.publish(msg2)\n",
    "    output1.value = 'Left'\n",
    "    time.sleep(1)\n",
    "    output1.value = 'Click Buttons to control the robot.'\n",
    "    \n",
    "def on_b_button_clicked(b):\n",
    "    global sim_flag\n",
    "    global msg2\n",
    "    \n",
    "    if (sim_flag == \"on\"):\n",
    "        output1.value = 'Stop Simulation1!'\n",
    "        pub1.publish(\"0\")\n",
    "        sim_flag = \"off\"\n",
    "    \n",
    "    msg2.linear.x = -0.5\n",
    "    msg2.angular.z = 0.0\n",
    "    pub2.publish(msg2)\n",
    "    output1.value = 'Backward!'\n",
    "    time.sleep(1)\n",
    "    output1.value = 'Click Buttons to control the robot.'\n",
    "\n",
    "    \n",
    "def on_s_button_clicked(b):\n",
    "    global sim_flag\n",
    "    global msg2\n",
    "    \n",
    "    if (sim_flag == \"on\"):\n",
    "        output1.value = 'Stop Simulation1!'\n",
    "        pub1.publish(\"0\")\n",
    "        sim_flag = \"off\"\n",
    "        \n",
    "    msg2.linear.x = 0.0\n",
    "    msg2.angular.z = 0.0\n",
    "    pub2.publish(msg2)\n",
    "    output1.value = 'Stop!'\n",
    "    time.sleep(1)\n",
    "    output1.value = 'Click Buttons to control the robot.'\n",
    "    \n",
    "f_button.on_click(on_f_button_clicked)\n",
    "r_button.on_click(on_r_button_clicked)\n",
    "l_button.on_click(on_l_button_clicked)\n",
    "b_button.on_click(on_b_button_clicked)\n",
    "s_button.on_click(on_s_button_clicked)\n",
    "\n",
    "widgets.HBox([l_button, widgets.VBox([f_button, b_button]), r_button, s_button, output1])"
   ]
  },
  {
   "cell_type": "markdown",
   "id": "8861fa42",
   "metadata": {},
   "source": [
    "The interface also provides visual feedback to the user through various components.\n",
    "\n",
    "#### 1. Visualization of Robot's 2D Trajectory:\n",
    "\n",
    "The graph displayed below illustrates the robot's position trajectory in the x and y axes within a {-5 x 5} grid. The trajectory is obtained by subscribing to the '\\odom' topic in ROS, providing the robot's position coordinates. To dynamically plot the graph, the animation module of the Matplotlib library is used. This ensures continuous updates of the trajectory as the robot moves within the Gazebo simulation."
   ]
  },
  {
   "cell_type": "code",
   "execution_count": 5,
   "id": "a111f811",
   "metadata": {
    "ExecuteTime": {
     "end_time": "2021-05-21T19:44:49.831080Z",
     "start_time": "2021-05-21T19:44:49.715169Z"
    },
    "scrolled": false
   },
   "outputs": [
    {
     "data": {
      "application/vnd.jupyter.widget-view+json": {
       "model_id": "ac73237e16af4161a2fdb5360a01fd06",
       "version_major": 2,
       "version_minor": 0
      },
      "text/plain": [
       "Canvas(toolbar=Toolbar(toolitems=[('Home', 'Reset original view', 'home', 'home'), ('Back', 'Back to previous …"
      ]
     },
     "metadata": {},
     "output_type": "display_data"
    }
   ],
   "source": [
    "# First set up the figure and the axis \n",
    "fig3, ax3 = plt.subplots()\n",
    "\n",
    "ax3.set_xlim(( -5, 5))\n",
    "ax3.set_ylim((-5, 5))\n",
    "\n",
    "line, = ax3.plot([], [], 'ro')\n",
    "x_data=[]\n",
    "y_data=[]"
   ]
  },
  {
   "cell_type": "code",
   "execution_count": 6,
   "id": "f155fea1",
   "metadata": {
    "ExecuteTime": {
     "end_time": "2021-05-21T19:44:49.953504Z",
     "start_time": "2021-05-21T19:44:49.837852Z"
    },
    "scrolled": true
   },
   "outputs": [],
   "source": [
    "from nav_msgs.msg import Odometry\n",
    "\n",
    "def init():\n",
    "    line.set_data([], [])\n",
    "    return (line,)\n",
    "\n",
    "\n",
    "def odom_callback(msg):\n",
    "    y_data.append(msg.pose.pose.position.y)\n",
    "    x_data.append(msg.pose.pose.position.x)\n",
    "\n",
    "def animate(i):\n",
    "    line.set_data(x_data, y_data)\n",
    "    return (line,)\n",
    "\n",
    "\n",
    "sub1 = rospy.Subscriber('/odom', Odometry, odom_callback)"
   ]
  },
  {
   "cell_type": "code",
   "execution_count": 7,
   "id": "e99705c5",
   "metadata": {
    "ExecuteTime": {
     "end_time": "2021-05-21T19:44:49.978953Z",
     "start_time": "2021-05-21T19:44:49.960899Z"
    },
    "scrolled": true
   },
   "outputs": [],
   "source": [
    "# call the animator. blit=True means only re-draw the parts that have changed.\n",
    "\n",
    "anim = animation.FuncAnimation(fig3, animate, init_func=init,\n",
    "                               frames=100, interval=20, blit=True)\n"
   ]
  },
  {
   "cell_type": "markdown",
   "id": "1a2a6607",
   "metadata": {},
   "source": [
    "#### 2. Bar Graph for Successful and Cancelled Targets:\n",
    "\n",
    "The bar graph depicted below presents the count of successful and canceled targets reached by the robot. These counts are stored in variables within the 'go_to_point_action' node. Regularly publishing the total counts to the '/success_goals' and '/cancel_goals' topics allows the interface to subscribe and update the bar graph dynamically. The plotting function is called within the callback functions of these topic subscribers."
   ]
  },
  {
   "cell_type": "code",
   "execution_count": 8,
   "id": "3b6a69e3",
   "metadata": {
    "scrolled": true
   },
   "outputs": [
    {
     "data": {
      "application/vnd.jupyter.widget-view+json": {
       "model_id": "bb55415f96c64d5aadd0a412580599ec",
       "version_major": 2,
       "version_minor": 0
      },
      "text/plain": [
       "Canvas(toolbar=Toolbar(toolitems=[('Home', 'Reset original view', 'home', 'home'), ('Back', 'Back to previous …"
      ]
     },
     "metadata": {},
     "output_type": "display_data"
    },
    {
     "data": {
      "image/png": "[encoded data removed]",
      "text/plain": [
       "<Figure size 640x480 with 1 Axes>"
      ]
     },
     "metadata": {},
     "output_type": "display_data"
    }
   ],
   "source": [
    "from IPython import display\n",
    "\n",
    "no_of_succ_goals = 0\n",
    "no_of_cancel_goals = 0\n",
    "\n",
    "# Build the plot\n",
    "fig1, ax1 = plt.subplots()\n",
    "hdisplay1 = display.display(\"\", display_id=True)\n",
    "\n",
    "\n",
    "def succ_status_callback(msg):\n",
    "        num = int(msg.data)\n",
    "        s = \"succ\"\n",
    "        pltsin1(num,s)\n",
    "\n",
    "def cancel_status_callback(msg):      \n",
    "        num = int(msg.data)\n",
    "        s = \"can\"\n",
    "        pltsin1(num,s)\n",
    "                \n",
    "def pltsin1(n,c):\n",
    "    global no_of_succ_goals\n",
    "    global no_of_cancel_goals\n",
    "    \n",
    "    if(c == \"succ\"):\n",
    "        no_of_succ_goals = n\n",
    "    else:\n",
    "        no_of_cancel_goals = n\n",
    "        \n",
    "    items = ['Successful Goals', 'Cancelled Goals']\n",
    "    x_pos = np.arange(len(items))\n",
    "    CTEs = [no_of_succ_goals, no_of_cancel_goals]\n",
    "    ax1.set_ylabel('No of Successful and Cancelled goals.')\n",
    "    ax1.set_xticks(x_pos)\n",
    "    ax1.set_xticklabels(items)\n",
    "    ax1.set_title('Simulation Status')\n",
    "    ax1.bar(x_pos, CTEs, align='center', alpha=1.0)\n",
    "    ax1.yaxis.grid(True)\n",
    "    hdisplay1.update(fig1)\n",
    "    \n",
    "    \n",
    "sub2 = rospy.Subscriber('/success_goals', String, succ_status_callback)\n",
    "sub3 = rospy.Subscriber('/cancel_goals', String, cancel_status_callback)\n",
    "\n",
    "\n",
    "plt.close(fig1)"
   ]
  },
  {
   "cell_type": "markdown",
   "id": "f9657b98",
   "metadata": {},
   "source": [
    "#### 3. Histogram for Time Taken to Reach Targets:\n",
    "\n",
    "The histogram shown below plots the time taken by the robot to reach all assigned targets. A timer is associated with each target, automatically stopping when the robot successfully reaches its position. The 'go_to_point_action' node stores the timer data for successfully reached targets in a list, which is then published to the ROS topic '/task_time'. By subscribing to this topic, the interface extracts the data and dynamically updates the histogram by invoking the plotting function within the topic subscriber's callback."
   ]
  },
  {
   "cell_type": "code",
   "execution_count": 9,
   "id": "b076ca5b",
   "metadata": {
    "scrolled": false
   },
   "outputs": [
    {
     "data": {
      "application/vnd.jupyter.widget-view+json": {
       "model_id": "a6fe24b6e42a4c3a856a7d0cbc980579",
       "version_major": 2,
       "version_minor": 0
      },
      "text/plain": [
       "Canvas(toolbar=Toolbar(toolitems=[('Home', 'Reset original view', 'home', 'home'), ('Back', 'Back to previous …"
      ]
     },
     "metadata": {},
     "output_type": "display_data"
    },
    {
     "data": {
      "image/png": "[encoded data removed]",
      "text/plain": [
       "<Figure size 1200x400 with 1 Axes>"
      ]
     },
     "metadata": {},
     "output_type": "display_data"
    }
   ],
   "source": [
    "import math\n",
    "\n",
    "output_sim1 = widgets.Text(value=\"Time\",disabled=True)\n",
    "\n",
    "\n",
    "#time_taken_array = []\n",
    "# Build the plot\n",
    "fig2, ax2 = plt.subplots(1,figsize=(12,4))\n",
    "hdisplay2 = display.display(\"\", display_id=True)\n",
    "\n",
    "def callback_time_taken(msg):\n",
    "    output_sim1.value = str(msg.data[0])\n",
    "    bin_edges = [15,20,21,22,23,24,25,26,27,28,29,30,31,32,33,34,35,36,37,38,39,40,41,42,43,44,45,46,47,48,49,50]\n",
    "    ax2.set_xlabel('Commute time (min)')\n",
    "    ax2.set_ylabel('Number of Completed Tasks')\n",
    "    ax2.set_xticks([15,20,21,22,23,24,25,26,27,28,29,30,31,32,33,34,35,36,37,38,39,40,41,42,43,44,45,46,47,48,49,50])\n",
    "    ax2.set_title('Histogram of Completed Tasks time')\n",
    "    ax2.hist(msg.data, bins=bin_edges, density=False, histtype='bar', color='b', edgecolor='k', alpha=0.5)\n",
    "    ax2.yaxis.grid(True)\n",
    "    hdisplay2.update(fig2)\n",
    "    \n",
    "    \n",
    "sub4 = rospy.Subscriber('/task_time', Int32MultiArray, callback_time_taken)\n",
    "\n",
    "plt.close(fig2)"
   ]
  },
  {
   "cell_type": "markdown",
   "id": "2f2b63c3",
   "metadata": {},
   "source": [
    "#### 4. Line Plot for Comparing Command Velocity vs. Actual Velocity:\n",
    "\n",
    "The two graphs displayed below compare the actual (linear and angular) velocities of the robot to the command velocities. Velocity data is obtained from the '\\odom' and 'cmd_vel' ROS topics, and separate list variables in the interface store this information. To enable dynamic plotting, the Matplotlib library's animation module is utilized. This allows continuous updates of the velocity graphs as the robot moves within the Gazebo simulation. Initiating the plotting process is achieved by clicking the \"Start Plot\" button."
   ]
  },
  {
   "cell_type": "code",
   "execution_count": 10,
   "id": "590f6259",
   "metadata": {},
   "outputs": [],
   "source": [
    "output_sim2 = widgets.Text(value=\"Cmd angular velocity\",disabled=True)\n",
    "output_sim3 = widgets.Text(value=\"Cmd linear velocity\",disabled=True)\n",
    "output_sim4 = widgets.Text(value=\"Time\",disabled=True)\n",
    "output_sim5 = widgets.Text(value=\"Odom angular velocity\",disabled=True)\n",
    "output_sim6 = widgets.Text(value=\"Odom linear velocity\",disabled=True)\n",
    "output_sim7 = widgets.Text(value=\"Click Button to Start the Plot.\",disabled=True)\n",
    "plotStartButton = widgets.Button(description=\"Start Plot\")"
   ]
  },
  {
   "cell_type": "code",
   "execution_count": 11,
   "id": "19caa861",
   "metadata": {
    "scrolled": true
   },
   "outputs": [
    {
     "data": {
      "application/vnd.jupyter.widget-view+json": {
       "model_id": "b9e166159f6c4d508e747e8c5c8c0354",
       "version_major": 2,
       "version_minor": 0
      },
      "text/plain": [
       "Canvas(toolbar=Toolbar(toolitems=[('Home', 'Reset original view', 'home', 'home'), ('Back', 'Back to previous …"
      ]
     },
     "metadata": {},
     "output_type": "display_data"
    }
   ],
   "source": [
    "%matplotlib widget\n",
    "\n",
    "# constants for angular velocity\n",
    "x_ang = []\n",
    "z_cmd = []\n",
    "z_odom = []\n",
    "\n",
    "# constants for linear velocity\n",
    "x_lin = []\n",
    "x_cmd = []\n",
    "x_odom = []\n",
    "\n",
    "# constants for extras:\n",
    "count = 0\n",
    "start_plot = False\n",
    "\n",
    "fig5, (ax5,ax6) = plt.subplots(2,figsize=(6,10))\n",
    "\n",
    "ang_cmd, = ax5.plot([])\n",
    "ang_odom, = ax5.plot([])\n",
    "lin_cmd, = ax6.plot([])\n",
    "lin_odom, = ax6.plot([])"
   ]
  },
  {
   "cell_type": "code",
   "execution_count": 12,
   "id": "226c459e",
   "metadata": {},
   "outputs": [
    {
     "data": {
      "application/vnd.jupyter.widget-view+json": {
       "model_id": "5f113bc64b854610a3e201ec6448acf8",
       "version_major": 2,
       "version_minor": 0
      },
      "text/plain": [
       "HBox(children=(Button(description='Start Plot', style=ButtonStyle()), Text(value='Click Button to Start the Pl…"
      ]
     },
     "metadata": {},
     "output_type": "display_data"
    }
   ],
   "source": [
    "def animate_plot(i):\n",
    "    #global count\n",
    "    count = time.time()\n",
    "    x_lin.append(count)\n",
    "    x_ang.append(count)\n",
    "    \n",
    "    output_sim4.value = str(count)  \n",
    "    \n",
    "    ax5.set_xticks(range(len(x_ang)), x_ang)\n",
    "    ang_odom, = ax5.plot(z_odom, '-b')\n",
    "    ang_cmd, = ax5.plot(z_cmd[0:len(z_cmd):32], '-r')\n",
    "    \n",
    "    ax6.set_xticks(range(len(x_lin)), x_lin)\n",
    "    lin_odom, = ax6.plot(x_odom, '-b')\n",
    "    lin_cmd, = ax6.plot(x_cmd[0:len(x_cmd):32], '-r')\n",
    "\n",
    "    return ang_odom, lin_odom, lin_cmd, ang_cmd,\n",
    "    \n",
    "\n",
    "def init_plot():\n",
    "    \n",
    "    prev_time_stamp = math.floor(time.time())\n",
    "    \n",
    "    ax5.set_ylabel('Velocity')\n",
    "    ax5.set_xlabel('Time')\n",
    "    ax5.set_title('Angular Velocity')\n",
    "    \n",
    "    ax6.set_ylabel('Velocity')\n",
    "    ax6.set_xlabel('Time')\n",
    "    ax6.set_title('Linear Velocity')\n",
    "    \n",
    "    ax6.set_ylim(-1,1)\n",
    "    ax6.axhline(0, color='black', lw=1)\n",
    "    \n",
    "    ax5.set_ylim(-1,1)\n",
    "    ax5.axhline(0, color='black', lw=1)\n",
    "    \n",
    "    \n",
    "    ang_odom, = ax5.plot(z_odom, '-b', label='ang_odom')\n",
    "    \n",
    "    # Downsampling the 'cmd_vel' signal to match with 'odom signal'.\n",
    "    ang_cmd, = ax5.plot(z_cmd[0:len(z_cmd):32], '-r', label='ang_cmd')\n",
    "    ax5.legend(loc=\"upper right\")\n",
    "    \n",
    "    lin_odom, = ax6.plot(x_odom, '-b', label='lin_odom')\n",
    "    # Downsampling the 'cmd_vel' signal to match with 'odom signal'.\n",
    "    lin_cmd, = ax6.plot(x_cmd[0:len(x_cmd):32], '-r', label='lin_cmd')\n",
    "    ax6.legend(loc=\"upper right\")\n",
    "\n",
    "    return ang_odom, lin_odom, lin_cmd, ang_cmd, \n",
    "\n",
    "\n",
    "def callback_cmd_vel(msg):\n",
    "    if(start_plot):\n",
    "        z = []\n",
    "        z.append(msg.angular.x)\n",
    "        z.append(msg.angular.y)\n",
    "        z.append(msg.angular.z)\n",
    "        \n",
    "        # By default only 'z' component of the angular velocity is plotting but complete magnitude can be plot as well.\n",
    "        # Uncomment this line of code plotting magnitude.\n",
    "        #output_sim2.value = str(round(math.sqrt(sum(i**2 for i in z)),3))\n",
    "        #z_cmd.append(round(math.sqrt(sum(i**2 for i in z)),3))\n",
    "        \n",
    "        output_sim2.value = str(round(msg.angular.z,3))\n",
    "        z_cmd.append(round(msg.angular.z,3))\n",
    "        z = []\n",
    "        z.append(msg.linear.x)\n",
    "        z.append(msg.linear.y)\n",
    "        z.append(msg.linear.z)\n",
    "        \n",
    "        # By default only 'x' component of the linear velocity is plotting but complete magnitude can be plot as well.\n",
    "        # Uncomment this line of code plotting magnitude.\n",
    "        #output_sim3.value = str(round(math.sqrt(sum(i**2 for i in z)),3))\n",
    "        #x_cmd.append(round(math.sqrt(sum(i**2 for i in z)),3))\n",
    "        \n",
    "        output_sim3.value = str(round(msg.linear.x,3))\n",
    "        x_cmd.append(round(msg.linear.x,3))\n",
    "        z = []\n",
    "    \n",
    "def callback_odom2(msg):\n",
    "    if(start_plot):\n",
    "        v = []\n",
    "        v.append(msg.twist.twist.angular.x)\n",
    "        v.append(msg.twist.twist.angular.y)\n",
    "        v.append(msg.twist.twist.angular.z)\n",
    "        \n",
    "        # By default only 'x' component of the linear velocity is plotting but complete magnitude can be plot as well.\n",
    "        # Uncomment this line of code plotting magnitude.\n",
    "        #output_sim5.value = str(round(math.sqrt(sum(i**2 for i in v)),3))\n",
    "        #z_odom.append(round(math.sqrt(sum(i**2 for i in v)),3))\n",
    "        \n",
    "        output_sim5.value = str(round(msg.twist.twist.angular.z,3))\n",
    "        z_odom.append(round(msg.twist.twist.angular.z,3))\n",
    "        v = []\n",
    "        v.append(msg.twist.twist.linear.x)\n",
    "        v.append(msg.twist.twist.linear.y)\n",
    "        v.append(msg.twist.twist.linear.z)\n",
    "                \n",
    "        # By default only 'x' component of the linear velocity is plotting but complete magnitude can be plot as well.\n",
    "        # Uncomment this line of code plotting magnitude.\n",
    "        #output_sim6.value = str(round(math.sqrt(sum(i**2 for i in v)),3))\n",
    "        #x_odom.append(round(math.sqrt(sum(i**2 for i in v)),3))\n",
    "        \n",
    "        output_sim6.value = str(round(msg.twist.twist.linear.x,3))\n",
    "        x_odom.append(round(msg.twist.twist.linear.x,3))\n",
    "        v = []\n",
    "\n",
    "def on_plotStartButton(b):\n",
    "    global start_plot\n",
    "    \n",
    "    if(start_plot == False):\n",
    "        output_sim7.value = 'Plotting is On'\n",
    "        start_plot = True\n",
    "        plotStartButton.description = \"Stop!\"\n",
    "    else:\n",
    "        start_plot = False\n",
    "        output_sim7.value = 'Plotting is OFF'\n",
    "        plotStartButton.description = \"Start!\"\n",
    "\n",
    "    \n",
    "sub5 = rospy.Subscriber('/cmd_vel', Twist, callback_cmd_vel)\n",
    "sub6 = rospy.Subscriber('/odom', Odometry, callback_odom2)\n",
    "plotStartButton.on_click(on_plotStartButton)\n",
    "widgets.HBox([plotStartButton, output_sim7])"
   ]
  },
  {
   "cell_type": "code",
   "execution_count": 13,
   "id": "48494c95",
   "metadata": {},
   "outputs": [],
   "source": [
    "ani = animation.FuncAnimation(fig5, animate_plot, init_func=init_plot, interval=1000, blit=True)"
   ]
  },
  {
   "cell_type": "code",
   "execution_count": 14,
   "id": "da8f61c6",
   "metadata": {},
   "outputs": [
    {
     "data": {
      "application/vnd.jupyter.widget-view+json": {
       "model_id": "e2654cb5fa3748b5a443fba5be16015c",
       "version_major": 2,
       "version_minor": 0
      },
      "text/plain": [
       "VBox(children=(HBox(children=(Text(value='Cmd angular velocity', disabled=True), Text(value='Cmd linear veloci…"
      ]
     },
     "metadata": {},
     "output_type": "display_data"
    }
   ],
   "source": [
    "widgets.VBox([widgets.HBox([output_sim2, output_sim3, output_sim4]),widgets.HBox([output_sim5, output_sim6])])"
   ]
  },
  {
   "cell_type": "code",
   "execution_count": null,
   "id": "fe815e67",
   "metadata": {},
   "outputs": [],
   "source": []
  }
 ],
 "metadata": {
  "hide_input": false,
  "kernelspec": {
   "display_name": "Python 3 (ipykernel)",
   "language": "python",
   "name": "python3"
  },
  "language_info": {
   "codemirror_mode": {
    "name": "ipython",
    "version": 3
   },
   "file_extension": ".py",
   "mimetype": "text/x-python",
   "name": "python",
   "nbconvert_exporter": "python",
   "pygments_lexer": "ipython3",
   "version": "3.8.5"
  },
  "toc": {
   "base_numbering": 1,
   "nav_menu": {},
   "number_sections": true,
   "sideBar": true,
   "skip_h1_title": false,
   "title_cell": "Table of Contents",
   "title_sidebar": "Contents",
   "toc_cell": false,
   "toc_position": {},
   "toc_section_display": true,
   "toc_window_display": false
  },
  "varInspector": {
   "cols": {
    "lenName": 16,
    "lenType": 16,
    "lenVar": 40
   },
   "kernels_config": {
    "python": {
     "delete_cmd_postfix": "",
     "delete_cmd_prefix": "del ",
     "library": "var_list.py",
     "varRefreshCmd": "print(var_dic_list())"
    },
    "r": {
     "delete_cmd_postfix": ") ",
     "delete_cmd_prefix": "rm(",
     "library": "var_list.r",
     "varRefreshCmd": "cat(var_dic_list()) "
    }
   },
   "types_to_exclude": [
    "module",
    "function",
    "builtin_function_or_method",
    "instance",
    "_Feature"
   ],
   "window_display": false
  }
 },
 "nbformat": 4,
 "nbformat_minor": 5
}
